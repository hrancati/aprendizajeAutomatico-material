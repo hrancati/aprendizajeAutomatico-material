{
 "cells": [
  {
   "cell_type": "markdown",
   "metadata": {
    "slideshow": {
     "slide_type": "slide"
    }
   },
   "source": [
    "[![Open In Colab](https://colab.research.google.com/assets/colab-badge.svg)](https://colab.research.google.com/github/aprendizaje-automatico-dc-uba-ar/material/blob/main/notebooks/notebook_01_herramientas-published.ipynb)\n",
    "\n",
    "# Introducción a las herramientas\n",
    "### Bienvenidos a Jupyter Notebooks! \n",
    "\n",
    "En este notebook exploraremos algunas de las funcionalidades básicas de bibliotecas en python3 que utilizaremos durante todo el cuatrimestre. \n",
    "\n",
    "Consejos: \n",
    "- Chequear \"Help / Keyboard shortcuts\"\n",
    "- Asumimos conocimiento de python3, en caso de no tenerlo, se puede empezar con: https://learnxinyminutes.com/docs/python3/ \n",
    "- Consultar: https://jakevdp.github.io/PythonDataScienceHandbook/ como introducción a los paquetes pandas, numpy y matplotlib\n",
    "- Para ejecutar las notebooks de la materia hay 2 alternativas:\n",
    "  - instalar python3 y jupyter en la computadora local\n",
    "  - utilizar GoogleColab\n",
    "  \n",
    "Esta práctica no es exhaustiva y está pensada para tener una primera aproximación sobre la cual explorar funcionalidades. Se recomienda fuertemente explorar las referencias propuestas.\n"
   ]
  },
  {
   "cell_type": "markdown",
   "metadata": {},
   "source": [
    "## Carga de modulos"
   ]
  },
  {
   "cell_type": "code",
   "execution_count": 6,
   "metadata": {
    "slideshow": {
     "slide_type": "fragment"
    }
   },
   "outputs": [],
   "source": [
    "%matplotlib inline\n",
    "\n",
    "import numpy as np # NUMPY\n",
    "import pandas as pd # PANDAS\n",
    "import matplotlib.pyplot as plt # MATPLOTLIB\n",
    "import seaborn as sns # SEABORN\n",
    "import scipy\n",
    "import sklearn\n"
   ]
  },
  {
   "cell_type": "markdown",
   "metadata": {
    "slideshow": {
     "slide_type": "fragment"
    }
   },
   "source": [
    "#### Si la celda anterior no corre bien, chequear que se hayan instalado las librerías. En la terminal correr:\n",
    "\n",
    "```bash\n",
    "$ pip3 install numpy pandas matplotlib seaborn scipy sklearn\n",
    "```"
   ]
  },
  {
   "cell_type": "markdown",
   "metadata": {},
   "source": [
    "## Listas"
   ]
  },
  {
   "cell_type": "code",
   "execution_count": 2,
   "metadata": {
    "slideshow": {
     "slide_type": "subslide"
    }
   },
   "outputs": [
    {
     "data": {
      "text/plain": [
       "[1, 2, 3, 4]"
      ]
     },
     "execution_count": 2,
     "metadata": {},
     "output_type": "execute_result"
    }
   ],
   "source": [
    "lista_python = [1,2,3,4]\n",
    "lista_python"
   ]
  },
  {
   "cell_type": "code",
   "execution_count": 10,
   "metadata": {
    "slideshow": {
     "slide_type": "fragment"
    }
   },
   "outputs": [
    {
     "name": "stdout",
     "output_type": "stream",
     "text": [
      "[1, 2, 3, 4, 1, 2, 3, 4]\n",
      "[1, 2, 3, 4, 1, 2, 3, 4]\n"
     ]
    }
   ],
   "source": [
    "# Descomentar y probar lo siguiente:\n",
    "\n",
    "print(lista_python + lista_python)  # funciona? > SI , concatena.\n",
    "print(lista_python * 2)  # funciona? > SI , duplica (concatena con si misma\n",
    "#print(lista_python ** 3) # funciona? > NO , list ** int no es operacion soportada\n",
    "#print(lista_python - lista_python)  # funciona? > NO , list - list no es operacion soportada\n",
    "#print(lista_python * lista_python)  # funciona? > NO , solo soporta multiplicar por enteros\n"
   ]
  },
  {
   "cell_type": "markdown",
   "metadata": {
    "slideshow": {
     "slide_type": "slide"
    }
   },
   "source": [
    "## Numpy"
   ]
  },
  {
   "cell_type": "code",
   "execution_count": 4,
   "metadata": {
    "slideshow": {
     "slide_type": "fragment"
    }
   },
   "outputs": [
    {
     "data": {
      "text/plain": [
       "array([1, 2, 3, 4, 5])"
      ]
     },
     "execution_count": 4,
     "metadata": {},
     "output_type": "execute_result"
    }
   ],
   "source": [
    "array_numpy = np.array([1,2,3,4,5])\n",
    "array_numpy"
   ]
  },
  {
   "cell_type": "code",
   "execution_count": 5,
   "metadata": {
    "slideshow": {
     "slide_type": "fragment"
    }
   },
   "outputs": [
    {
     "name": "stdout",
     "output_type": "stream",
     "text": [
      "[ 2  4  6  8 10]\n",
      "[ 2  4  6  8 10]\n",
      "[  1   8  27  64 125]\n",
      "[ 1  4  9 16 25]\n",
      "[0 0 0 0 0]\n"
     ]
    }
   ],
   "source": [
    "print(array_numpy + array_numpy) # COMENTARIO, para los arrays de numpy , están definidas todas las operaciones vector*escalar\n",
    "print(array_numpy * 2)\n",
    "print(array_numpy ** 3)\n",
    "print(array_numpy * array_numpy)\n",
    "print(array_numpy - array_numpy)\n"
   ]
  },
  {
   "cell_type": "markdown",
   "metadata": {
    "slideshow": {
     "slide_type": "fragment"
    }
   },
   "source": [
    "#### Arreglos multidimensionales (Vectores, Matrices, Tensores, etc)"
   ]
  },
  {
   "cell_type": "code",
   "execution_count": 5,
   "metadata": {
    "slideshow": {
     "slide_type": "fragment"
    }
   },
   "outputs": [
    {
     "name": "stdout",
     "output_type": "stream",
     "text": [
      "Un vector de dim:  (6,)\n",
      "Una matriz de dim: (4, 3)\n",
      "Un tensor de dim:  (4, 2, 3)\n"
     ]
    }
   ],
   "source": [
    "v = np.array([1,2,3,4,5,6]) # COMENTARIO : se pueden definir matrices como arreglos de arreglos con numpy\n",
    "print(\"Un vector de dim: \", v.shape)\n",
    "\n",
    "m = np.array([[1,2,3],[4,5,6], [7,8,9], [10, 11, 12]])\n",
    "print(\"Una matriz de dim:\", m.shape)\n",
    "\n",
    "t = np.array([[[1,2,3], [2,3,3]], [[1,3,2], [4,3,2]], \n",
    "              [[4,2,3], [0,3,-1]], [[10,3,21], [34,13,12]]])\n",
    "print(\"Un tensor de dim: \", t.shape) # Vector de matrices, o matriz de vectores"
   ]
  },
  {
   "cell_type": "code",
   "execution_count": 7,
   "metadata": {
    "slideshow": {
     "slide_type": "slide"
    }
   },
   "outputs": [
    {
     "data": {
      "text/plain": [
       "array([[ 1,  2,  3],\n",
       "       [ 4,  5,  6],\n",
       "       [ 7,  8,  9],\n",
       "       [10, 11, 12]])"
      ]
     },
     "execution_count": 7,
     "metadata": {},
     "output_type": "execute_result"
    }
   ],
   "source": [
    "m"
   ]
  },
  {
   "cell_type": "code",
   "execution_count": 8,
   "metadata": {
    "slideshow": {
     "slide_type": "fragment"
    }
   },
   "outputs": [
    {
     "name": "stdout",
     "output_type": "stream",
     "text": [
      "suma con la función sum: [22 26 30]\n",
      "función sum de numpy array.sum: 78\n",
      "función sum de numpy np.sum: 78\n"
     ]
    }
   ],
   "source": [
    "print(\"suma con la función sum:\", sum(m))\n",
    "print(\"función sum de numpy array.sum:\", m.sum()) # suma toda la matriz\n",
    "print(\"función sum de numpy np.sum:\", np.sum(m)) # suma toda la matriz"
   ]
  },
  {
   "cell_type": "markdown",
   "metadata": {
    "slideshow": {
     "slide_type": "fragment"
    }
   },
   "source": [
    "- ```sum(m)``` # COMENTARIO devuelve la suma de cada columna, ¿por qué? # COMENTARIO : la suma sobre una lista concatena, pero sobre una matriz numpy suma por columnas (m es un arreglo numpy)"
   ]
  },
  {
   "cell_type": "markdown",
   "metadata": {
    "slideshow": {
     "slide_type": "slide"
    }
   },
   "source": [
    "### Ejercicios: \n",
    "\n",
    "Para la siguiente serie de ejercicios explorar las funciones del módulo `NumPy`:\n",
    "`sum; vstack; hstack; shape; reshape; linspace; dot`\n",
    "\n",
    "Para acceder a la documentación se puede ejecutar en una celda el nombre de la función seguido de un signo de pregunta (?).\n",
    "\n",
    "Ej:```np.vstack?```\n",
    "\n",
    "\n",
    "Implementar las siguientes funciones:"
   ]
  },
  {
   "cell_type": "code",
   "execution_count": 14,
   "metadata": {
    "slideshow": {
     "slide_type": "fragment"
    }
   },
   "outputs": [
    {
     "ename": "SyntaxError",
     "evalue": "closing parenthesis ')' does not match opening parenthesis '[' (4041144593.py, line 31)",
     "output_type": "error",
     "traceback": [
      "\u001b[0;36m  Cell \u001b[0;32mIn[14], line 31\u001b[0;36m\u001b[0m\n\u001b[0;31m    m = np.array([[1,2,3])\u001b[0m\n\u001b[0m                         ^\u001b[0m\n\u001b[0;31mSyntaxError\u001b[0m\u001b[0;31m:\u001b[0m closing parenthesis ')' does not match opening parenthesis '['\n"
     ]
    }
   ],
   "source": [
    "def sumar_por_fila(mat: np.ndarray) -> np.ndarray:\n",
    "    # que devuelve la suma de cada fila de la matriz m. \n",
    "    # Debe devolver un vector columna: (n x 1)\n",
    "    return mat.sum(axis=1)\n",
    "\n",
    "def transponer(mat: np.ndarray) -> np.ndarray:\n",
    "    # que transponga la matriz m.\n",
    "    return \"<<completar>>\"\n",
    "\n",
    "def agregar_fila(mat: np.ndarray, row: np.ndarray) -> np.ndarray:\n",
    "    # que agregue la fila row a la matriz m.\n",
    "    return \"<<completar>>\"\n",
    "\n",
    "def convertir_a_columna(x: np.ndarray) -> np.ndarray:\n",
    "    # que convierta un vector fila en un vector columna. Es decir, de (1 x n) a (n x 1).\n",
    "    return \"<<completar>>\"\n",
    "\n",
    "def agregar_columna(mat: np.ndarray, col: np.ndarray) -> np.ndarray:\n",
    "    # que agregue la columna col a la matriz m.\n",
    "    return \"<<completar>>\"\n",
    "\n",
    "def producto(x: np.ndarray, y: np.ndarray) -> np.ndarray:\n",
    "    # que multiplique los vectores x e y (producto interno): x^t.y\n",
    "    return \"<<completar>>\"\n",
    "\n",
    "def equiespaciados(n: int, a: float, b: float) -> np.ndarray:\n",
    "    # que devuelva n puntos equiespaciados entre a y b.\n",
    "    return \"<<completar>>\"\n",
    "\n",
    "print(f\"Suma por fila\\n{sumar_por_fila(m)}\")\n",
    "\n"
   ]
  },
  {
   "cell_type": "code",
   "execution_count": 25,
   "metadata": {
    "slideshow": {
     "slide_type": "skip"
    }
   },
   "outputs": [
    {
     "name": "stdout",
     "output_type": "stream",
     "text": [
      "Suma por fila\n",
      "[ 6 15 24 33]\n",
      "Transpuesta:\n",
      "[[ 1  4  7 10]\n",
      " [ 2  5  8 11]\n",
      " [ 3  6  9 12]]\n",
      "Fila nueva:\n",
      "[[ 1  2  3]\n",
      " [ 4  5  6]\n",
      " [ 7  8  9]\n",
      " [10 11 12]\n",
      " [13 14 15]]\n",
      "[[ 1  2  3]\n",
      " [ 4  5  6]\n",
      " [ 7  8  9]\n",
      " [10 11 12]]\n",
      "A vector columna:\n",
      "[[0]\n",
      " [0]\n",
      " [0]\n",
      " [0]]\n",
      "Columna nueva:\n",
      "[[ 1  2  3  0]\n",
      " [ 4  5  6  0]\n",
      " [ 7  8  9  0]\n",
      " [10 11 12  0]]\n",
      "producto: 7\n",
      "equiespaciados: \n",
      "[4. 6.]\n"
     ]
    }
   ],
   "source": [
    "\n",
    "print(f\"Suma por fila\\n{sumar_por_fila(m)}\")\n",
    "print(f\"Transpuesta:\\n{transponer(m)}\")\n",
    "print(f\"Fila nueva:\\n{agregar_fila(m, np.array([13,14,15]))}\")\n",
    "\n",
    "columna = convertir_a_columna(np.array([0,0,0,0]))\n",
    "            \n",
    "print(m)\n",
    "print(f\"A vector columna:\\n{columna}\")\n",
    "print(f\"Columna nueva:\\n{agregar_columna(m, columna)}\")\n",
    "\n",
    "x = np.array([0,3,2,0])\n",
    "y =  np.array([4,1,2,2])\n",
    "print(f\"producto: {producto(x,y)}\")\n",
    "\n",
    "print(f\"equiespaciados: \\n{equiespaciados(1, 10, 4)}\")"
   ]
  },
  {
   "cell_type": "markdown",
   "metadata": {
    "slideshow": {
     "slide_type": "slide"
    }
   },
   "source": [
    "## Matplotlib\n",
    "\n",
    "Matplotlib es la biblioteca más utilizada en python para generar gráficos.\n",
    "\n",
    "[Tutorial oficial](https://matplotlib.org/stable/tutorials/introductory/pyplot.html).\n",
    "\n",
    "Se pueden ver ejemplos (con el código para generar gráficos) en una [galería de gráficos](https://matplotlib.org/stable/gallery/index.html), explorar gráficos puede dar ideas sobre posibles formas de ver datos propios.\n",
    "\n",
    "Sobre matplotlib se han generado nuevas bibliotecas como [seaborn](https://seaborn.pydata.org/) que interactua bien con pandas. [Tutorial](https://seaborn.pydata.org/tutorial.html) y [Galería de ejemplos](https://seaborn.pydata.org/examples/index.html)."
   ]
  },
  {
   "cell_type": "code",
   "execution_count": null,
   "metadata": {
    "slideshow": {
     "slide_type": "skip"
    }
   },
   "outputs": [],
   "source": [
    "with plt.xkcd():\n",
    "    fig = plt.figure()\n",
    "    ax = fig.add_subplot(1, 1, 1)\n",
    "    ax.spines['right'].set_color('none')\n",
    "    ax.spines['top'].set_color('none')\n",
    "    plt.xticks([])\n",
    "    plt.yticks([])\n",
    "    ax.set_ylim([-30, 10])\n",
    "\n",
    "    data = np.ones(100)\n",
    "    data[70:] -= np.arange(30)\n",
    "\n",
    "    plt.annotate(\n",
    "        'INICIO DEL MUNDIAL',\n",
    "        xy=(70, 1), arrowprops=dict(arrowstyle='->'), xytext=(15, -10))\n",
    "\n",
    "    plt.plot(data)\n",
    "\n",
    "    plt.xlabel('DIAS')\n",
    "    plt.ylabel('PRODUCTIVIDIDAD');\n",
    "plt.rcdefaults()"
   ]
  },
  {
   "cell_type": "code",
   "execution_count": null,
   "metadata": {
    "slideshow": {
     "slide_type": "fragment"
    }
   },
   "outputs": [],
   "source": [
    "x = np.linspace(-5, 5, 15)\n",
    "print(\"X=\", x)\n",
    "\n",
    "y = np.sin(x) # aplica sen a cada elemento. \n",
    "print(\"Y=\", y)\n",
    "\n"
   ]
  },
  {
   "cell_type": "code",
   "execution_count": null,
   "metadata": {
    "slideshow": {
     "slide_type": "fragment"
    }
   },
   "outputs": [],
   "source": [
    "# Descomentar lo siguiente para probar:\n",
    "# plt.plot?\n",
    "\n",
    "plt.figure(figsize=(10, 1.5))\n",
    "plt.plot(x, y, \".-\")"
   ]
  },
  {
   "cell_type": "code",
   "execution_count": null,
   "metadata": {
    "slideshow": {
     "slide_type": "slide"
    }
   },
   "outputs": [],
   "source": [
    "fig, axes = plt.subplots(1, 3, figsize=(15, 3))\n",
    "axes[0].plot(x, y, marker=\"x\", color=\"red\", linewidth=1)\n",
    "\n",
    "axes[1].plot(x, y, marker=\"x\", color=\"blue\", linewidth=0.5)\n",
    "axes[1].plot(x, y+1, marker=\"x\", linewidth=0.4)\n",
    "\n",
    "axes[2].plot(y, x, \".-\");\n"
   ]
  },
  {
   "cell_type": "code",
   "execution_count": null,
   "metadata": {
    "slideshow": {
     "slide_type": "skip"
    }
   },
   "outputs": [],
   "source": [
    "# Descomentar lo siguiente y probar\n",
    "# plt.scatter?"
   ]
  },
  {
   "cell_type": "code",
   "execution_count": null,
   "metadata": {
    "slideshow": {
     "slide_type": "slide"
    }
   },
   "outputs": [],
   "source": [
    "plt.figure(figsize=(10, 3))\n",
    "x1 = np.arange(0, 100)\n",
    "x2 = np.random.rand(100) * 5\n",
    "x3 = np.random.rand(100) - 1\n",
    "sizes = np.random.rand(100) * 100\n",
    "plt.scatter(x1, x2, color=\"blue\", marker=\"x\", s=sizes) # tamaños al azar\n",
    "plt.scatter(x1, x3, color=\"red\", s=np.linspace(0, 300, 100), alpha=0.5) # tamaños crecientes\n"
   ]
  },
  {
   "cell_type": "markdown",
   "metadata": {},
   "source": [
    "### Ejercicios"
   ]
  },
  {
   "cell_type": "markdown",
   "metadata": {},
   "source": [
    "Completar los siguientes items:\n",
    "\n",
    "1. Escribir una función $f(n, a, b)$ con $n, a, b$ naturales que devuelva $n$ números reales aleatorios en el intervalo $[a, b]$;\n",
    "1. Escribir una función $g(n, m, v)$  que devuelva $n$ números reales aleatorios muestreando una distribución normal con media $m$ y varianza $v$.\n",
    "1. Plotear luego histogramas para $f(1000, 10, 20)$ y $g(1000, 3, 9)$. \n",
    "1. Para los datos recién generados con la función $g$, estimar los parámetros muestrales y graficar junto al histograma, la densidad de una normal con los parámetros estimados."
   ]
  },
  {
   "cell_type": "code",
   "execution_count": 3,
   "metadata": {},
   "outputs": [],
   "source": [
    "def f(n: int, a: int, b: int) -> np.ndarray:\n",
    "    return \"<<completar>>\"\n",
    "\n",
    "\n",
    "def g(n: int, m: float, v: float) -> np.ndarray:\n",
    "    return \"<<completar>>\"\n"
   ]
  },
  {
   "cell_type": "markdown",
   "metadata": {
    "slideshow": {
     "slide_type": "slide"
    }
   },
   "source": [
    "## Pandas"
   ]
  },
  {
   "cell_type": "code",
   "execution_count": 29,
   "metadata": {
    "slideshow": {
     "slide_type": "fragment"
    }
   },
   "outputs": [
    {
     "data": {
      "text/html": [
       "<div>\n",
       "<style scoped>\n",
       "    .dataframe tbody tr th:only-of-type {\n",
       "        vertical-align: middle;\n",
       "    }\n",
       "\n",
       "    .dataframe tbody tr th {\n",
       "        vertical-align: top;\n",
       "    }\n",
       "\n",
       "    .dataframe thead th {\n",
       "        text-align: right;\n",
       "    }\n",
       "</style>\n",
       "<table border=\"1\" class=\"dataframe\">\n",
       "  <thead>\n",
       "    <tr style=\"text-align: right;\">\n",
       "      <th></th>\n",
       "      <th>Nombre</th>\n",
       "      <th>Rol</th>\n",
       "      <th>Edad</th>\n",
       "    </tr>\n",
       "  </thead>\n",
       "  <tbody>\n",
       "    <tr>\n",
       "      <th>0</th>\n",
       "      <td>El Profesor</td>\n",
       "      <td>Atracador</td>\n",
       "      <td>40</td>\n",
       "    </tr>\n",
       "    <tr>\n",
       "      <th>1</th>\n",
       "      <td>Mónica Gaztambide</td>\n",
       "      <td>Rehén</td>\n",
       "      <td>35</td>\n",
       "    </tr>\n",
       "    <tr>\n",
       "      <th>2</th>\n",
       "      <td>Raquel Murillo</td>\n",
       "      <td>Policia</td>\n",
       "      <td>38</td>\n",
       "    </tr>\n",
       "    <tr>\n",
       "      <th>3</th>\n",
       "      <td>Tokio</td>\n",
       "      <td>Atracador</td>\n",
       "      <td>25</td>\n",
       "    </tr>\n",
       "    <tr>\n",
       "      <th>4</th>\n",
       "      <td>Berlín</td>\n",
       "      <td>Atracador</td>\n",
       "      <td>44</td>\n",
       "    </tr>\n",
       "    <tr>\n",
       "      <th>5</th>\n",
       "      <td>Alison Parker</td>\n",
       "      <td>Rehén</td>\n",
       "      <td>16</td>\n",
       "    </tr>\n",
       "  </tbody>\n",
       "</table>\n",
       "</div>"
      ],
      "text/plain": [
       "              Nombre        Rol  Edad\n",
       "0        El Profesor  Atracador    40\n",
       "1  Mónica Gaztambide      Rehén    35\n",
       "2     Raquel Murillo    Policia    38\n",
       "3              Tokio  Atracador    25\n",
       "4             Berlín  Atracador    44\n",
       "5      Alison Parker      Rehén    16"
      ]
     },
     "execution_count": 29,
     "metadata": {},
     "output_type": "execute_result"
    }
   ],
   "source": [
    "import pandas as pd\n",
    "from IPython.display import display\n",
    "\n",
    "# Creamos un dataset\n",
    "data = {\"Nombre\": [\"El Profesor\", \"Mónica Gaztambide\", \"Raquel Murillo\", \"Tokio\",\"Berlín\",\"Alison Parker\"],\n",
    "        \"Rol\" : [\"Atracador\", \"Rehén\", \"Policia\", \"Atracador\", \"Atracador\", \"Rehén\"],\n",
    "        \"Edad\": [40, 35, 38, 25, 44, 16]\n",
    "       }\n",
    "\n",
    "df = pd.DataFrame(data)\n",
    "df"
   ]
  },
  {
   "cell_type": "markdown",
   "metadata": {},
   "source": [
    "Explorar el data set con los comandos: `.head(3), .tail(2), .describe(), .T`.\n",
    "\n",
    "¿Qué información nos muestra cada comando?\n",
    "\n",
    "Ordenar los datos por Rol (alfabético inverso) y luego por edad (ascendente)."
   ]
  },
  {
   "cell_type": "code",
   "execution_count": null,
   "metadata": {
    "slideshow": {
     "slide_type": "fragment"
    }
   },
   "outputs": [],
   "source": [
    "display(df[df.Edad > 30])\n",
    "display(df.groupby(\"Rol\").mean())"
   ]
  },
  {
   "cell_type": "code",
   "execution_count": null,
   "metadata": {
    "slideshow": {
     "slide_type": "skip"
    }
   },
   "outputs": [],
   "source": [
    "mascara_edad = (df.Edad > 30)\n",
    "mascara_rol = (df.Rol == \"Atracador\")\n",
    "mascara = mascara_edad & mascara_rol\n",
    "print(\"Máscara: \\n\", mascara, sep=\"\")\n",
    "df[mascara]"
   ]
  },
  {
   "cell_type": "markdown",
   "metadata": {},
   "source": [
    "Repasar la página [10 minutes to pandas](https://pandas.pydata.org/docs/user_guide/10min.html) para una completar la primera aproximación a pandas."
   ]
  }
 ],
 "metadata": {
  "celltoolbar": "Tags",
  "kernelspec": {
   "display_name": "Python 3 (ipykernel)",
   "language": "python",
   "name": "python3"
  },
  "language_info": {
   "codemirror_mode": {
    "name": "ipython",
    "version": 3
   },
   "file_extension": ".py",
   "mimetype": "text/x-python",
   "name": "python",
   "nbconvert_exporter": "python",
   "pygments_lexer": "ipython3",
   "version": "3.10.16"
  }
 },
 "nbformat": 4,
 "nbformat_minor": 4
}
